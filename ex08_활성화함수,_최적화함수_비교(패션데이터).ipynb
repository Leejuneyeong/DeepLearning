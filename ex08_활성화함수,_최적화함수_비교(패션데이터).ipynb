{
  "nbformat": 4,
  "nbformat_minor": 0,
  "metadata": {
    "colab": {
      "provenance": [],
      "collapsed_sections": []
    },
    "kernelspec": {
      "name": "python3",
      "display_name": "Python 3"
    },
    "language_info": {
      "name": "python"
    },
    "accelerator": "GPU",
    "gpuClass": "standard"
  },
  "cells": [
    {
      "cell_type": "code",
      "source": [
        "import numpy as np\n",
        "import pandas as pd\n",
        "import matplotlib.pyplot as plt\n",
        "\n",
        "from tensorflow.keras.datasets import fashion_mnist"
      ],
      "metadata": {
        "id": "pzDes7je6Czy"
      },
      "execution_count": null,
      "outputs": []
    },
    {
      "cell_type": "code",
      "source": [
        "(X_train, y_train),(X_test,y_test) = fashion_mnist.load_data()"
      ],
      "metadata": {
        "colab": {
          "base_uri": "https://localhost:8080/"
        },
        "id": "4cTIg0266f3z",
        "outputId": "5cd42504-a708-4280-85f4-3ac5ad5f1833"
      },
      "execution_count": null,
      "outputs": [
        {
          "output_type": "stream",
          "name": "stdout",
          "text": [
            "Downloading data from https://storage.googleapis.com/tensorflow/tf-keras-datasets/train-labels-idx1-ubyte.gz\n",
            "32768/29515 [=================================] - 0s 0us/step\n",
            "40960/29515 [=========================================] - 0s 0us/step\n",
            "Downloading data from https://storage.googleapis.com/tensorflow/tf-keras-datasets/train-images-idx3-ubyte.gz\n",
            "26427392/26421880 [==============================] - 0s 0us/step\n",
            "26435584/26421880 [==============================] - 0s 0us/step\n",
            "Downloading data from https://storage.googleapis.com/tensorflow/tf-keras-datasets/t10k-labels-idx1-ubyte.gz\n",
            "16384/5148 [===============================================================================================] - 0s 0us/step\n",
            "Downloading data from https://storage.googleapis.com/tensorflow/tf-keras-datasets/t10k-images-idx3-ubyte.gz\n",
            "4423680/4422102 [==============================] - 0s 0us/step\n",
            "4431872/4422102 [==============================] - 0s 0us/step\n"
          ]
        }
      ]
    },
    {
      "cell_type": "code",
      "source": [
        "print(X_train.shape)\n",
        "print(y_train.shape)\n",
        "print(X_test.shape)\n",
        "print(y_test.shape)\n"
      ],
      "metadata": {
        "colab": {
          "base_uri": "https://localhost:8080/"
        },
        "id": "x_JCDiFV6T65",
        "outputId": "cbfdb343-921f-4bd7-c9c0-293bfbbd2490"
      },
      "execution_count": null,
      "outputs": [
        {
          "output_type": "stream",
          "name": "stdout",
          "text": [
            "(60000, 28, 28)\n",
            "(60000,)\n",
            "(10000, 28, 28)\n",
            "(10000,)\n"
          ]
        }
      ]
    },
    {
      "cell_type": "markdown",
      "source": [
        "- 정답 데이터 원핫인코딩"
      ],
      "metadata": {
        "id": "BsdCvWBT7DeY"
      }
    },
    {
      "cell_type": "code",
      "source": [
        "y_train_one_hot = pd.get_dummies(y_train)\n",
        "y_test_one_hot = pd.get_dummies(y_test)"
      ],
      "metadata": {
        "id": "gZPkC5XA7Q1x"
      },
      "execution_count": null,
      "outputs": []
    },
    {
      "cell_type": "code",
      "source": [
        "y_train_one_hot"
      ],
      "metadata": {
        "colab": {
          "base_uri": "https://localhost:8080/",
          "height": 424
        },
        "id": "RkJ8a11q7QHE",
        "outputId": "eb9a761a-4e18-4199-a4c4-1206e00e3660"
      },
      "execution_count": null,
      "outputs": [
        {
          "output_type": "execute_result",
          "data": {
            "text/plain": [
              "       0  1  2  3  4  5  6  7  8  9\n",
              "0      0  0  0  0  0  0  0  0  0  1\n",
              "1      1  0  0  0  0  0  0  0  0  0\n",
              "2      1  0  0  0  0  0  0  0  0  0\n",
              "3      0  0  0  1  0  0  0  0  0  0\n",
              "4      1  0  0  0  0  0  0  0  0  0\n",
              "...   .. .. .. .. .. .. .. .. .. ..\n",
              "59995  0  0  0  0  0  1  0  0  0  0\n",
              "59996  0  1  0  0  0  0  0  0  0  0\n",
              "59997  0  0  0  1  0  0  0  0  0  0\n",
              "59998  1  0  0  0  0  0  0  0  0  0\n",
              "59999  0  0  0  0  0  1  0  0  0  0\n",
              "\n",
              "[60000 rows x 10 columns]"
            ],
            "text/html": [
              "\n",
              "  <div id=\"df-a6bff6a2-41a6-4fd4-941e-9d1e46d2cc3d\">\n",
              "    <div class=\"colab-df-container\">\n",
              "      <div>\n",
              "<style scoped>\n",
              "    .dataframe tbody tr th:only-of-type {\n",
              "        vertical-align: middle;\n",
              "    }\n",
              "\n",
              "    .dataframe tbody tr th {\n",
              "        vertical-align: top;\n",
              "    }\n",
              "\n",
              "    .dataframe thead th {\n",
              "        text-align: right;\n",
              "    }\n",
              "</style>\n",
              "<table border=\"1\" class=\"dataframe\">\n",
              "  <thead>\n",
              "    <tr style=\"text-align: right;\">\n",
              "      <th></th>\n",
              "      <th>0</th>\n",
              "      <th>1</th>\n",
              "      <th>2</th>\n",
              "      <th>3</th>\n",
              "      <th>4</th>\n",
              "      <th>5</th>\n",
              "      <th>6</th>\n",
              "      <th>7</th>\n",
              "      <th>8</th>\n",
              "      <th>9</th>\n",
              "    </tr>\n",
              "  </thead>\n",
              "  <tbody>\n",
              "    <tr>\n",
              "      <th>0</th>\n",
              "      <td>0</td>\n",
              "      <td>0</td>\n",
              "      <td>0</td>\n",
              "      <td>0</td>\n",
              "      <td>0</td>\n",
              "      <td>0</td>\n",
              "      <td>0</td>\n",
              "      <td>0</td>\n",
              "      <td>0</td>\n",
              "      <td>1</td>\n",
              "    </tr>\n",
              "    <tr>\n",
              "      <th>1</th>\n",
              "      <td>1</td>\n",
              "      <td>0</td>\n",
              "      <td>0</td>\n",
              "      <td>0</td>\n",
              "      <td>0</td>\n",
              "      <td>0</td>\n",
              "      <td>0</td>\n",
              "      <td>0</td>\n",
              "      <td>0</td>\n",
              "      <td>0</td>\n",
              "    </tr>\n",
              "    <tr>\n",
              "      <th>2</th>\n",
              "      <td>1</td>\n",
              "      <td>0</td>\n",
              "      <td>0</td>\n",
              "      <td>0</td>\n",
              "      <td>0</td>\n",
              "      <td>0</td>\n",
              "      <td>0</td>\n",
              "      <td>0</td>\n",
              "      <td>0</td>\n",
              "      <td>0</td>\n",
              "    </tr>\n",
              "    <tr>\n",
              "      <th>3</th>\n",
              "      <td>0</td>\n",
              "      <td>0</td>\n",
              "      <td>0</td>\n",
              "      <td>1</td>\n",
              "      <td>0</td>\n",
              "      <td>0</td>\n",
              "      <td>0</td>\n",
              "      <td>0</td>\n",
              "      <td>0</td>\n",
              "      <td>0</td>\n",
              "    </tr>\n",
              "    <tr>\n",
              "      <th>4</th>\n",
              "      <td>1</td>\n",
              "      <td>0</td>\n",
              "      <td>0</td>\n",
              "      <td>0</td>\n",
              "      <td>0</td>\n",
              "      <td>0</td>\n",
              "      <td>0</td>\n",
              "      <td>0</td>\n",
              "      <td>0</td>\n",
              "      <td>0</td>\n",
              "    </tr>\n",
              "    <tr>\n",
              "      <th>...</th>\n",
              "      <td>...</td>\n",
              "      <td>...</td>\n",
              "      <td>...</td>\n",
              "      <td>...</td>\n",
              "      <td>...</td>\n",
              "      <td>...</td>\n",
              "      <td>...</td>\n",
              "      <td>...</td>\n",
              "      <td>...</td>\n",
              "      <td>...</td>\n",
              "    </tr>\n",
              "    <tr>\n",
              "      <th>59995</th>\n",
              "      <td>0</td>\n",
              "      <td>0</td>\n",
              "      <td>0</td>\n",
              "      <td>0</td>\n",
              "      <td>0</td>\n",
              "      <td>1</td>\n",
              "      <td>0</td>\n",
              "      <td>0</td>\n",
              "      <td>0</td>\n",
              "      <td>0</td>\n",
              "    </tr>\n",
              "    <tr>\n",
              "      <th>59996</th>\n",
              "      <td>0</td>\n",
              "      <td>1</td>\n",
              "      <td>0</td>\n",
              "      <td>0</td>\n",
              "      <td>0</td>\n",
              "      <td>0</td>\n",
              "      <td>0</td>\n",
              "      <td>0</td>\n",
              "      <td>0</td>\n",
              "      <td>0</td>\n",
              "    </tr>\n",
              "    <tr>\n",
              "      <th>59997</th>\n",
              "      <td>0</td>\n",
              "      <td>0</td>\n",
              "      <td>0</td>\n",
              "      <td>1</td>\n",
              "      <td>0</td>\n",
              "      <td>0</td>\n",
              "      <td>0</td>\n",
              "      <td>0</td>\n",
              "      <td>0</td>\n",
              "      <td>0</td>\n",
              "    </tr>\n",
              "    <tr>\n",
              "      <th>59998</th>\n",
              "      <td>1</td>\n",
              "      <td>0</td>\n",
              "      <td>0</td>\n",
              "      <td>0</td>\n",
              "      <td>0</td>\n",
              "      <td>0</td>\n",
              "      <td>0</td>\n",
              "      <td>0</td>\n",
              "      <td>0</td>\n",
              "      <td>0</td>\n",
              "    </tr>\n",
              "    <tr>\n",
              "      <th>59999</th>\n",
              "      <td>0</td>\n",
              "      <td>0</td>\n",
              "      <td>0</td>\n",
              "      <td>0</td>\n",
              "      <td>0</td>\n",
              "      <td>1</td>\n",
              "      <td>0</td>\n",
              "      <td>0</td>\n",
              "      <td>0</td>\n",
              "      <td>0</td>\n",
              "    </tr>\n",
              "  </tbody>\n",
              "</table>\n",
              "<p>60000 rows × 10 columns</p>\n",
              "</div>\n",
              "      <button class=\"colab-df-convert\" onclick=\"convertToInteractive('df-a6bff6a2-41a6-4fd4-941e-9d1e46d2cc3d')\"\n",
              "              title=\"Convert this dataframe to an interactive table.\"\n",
              "              style=\"display:none;\">\n",
              "        \n",
              "  <svg xmlns=\"http://www.w3.org/2000/svg\" height=\"24px\"viewBox=\"0 0 24 24\"\n",
              "       width=\"24px\">\n",
              "    <path d=\"M0 0h24v24H0V0z\" fill=\"none\"/>\n",
              "    <path d=\"M18.56 5.44l.94 2.06.94-2.06 2.06-.94-2.06-.94-.94-2.06-.94 2.06-2.06.94zm-11 1L8.5 8.5l.94-2.06 2.06-.94-2.06-.94L8.5 2.5l-.94 2.06-2.06.94zm10 10l.94 2.06.94-2.06 2.06-.94-2.06-.94-.94-2.06-.94 2.06-2.06.94z\"/><path d=\"M17.41 7.96l-1.37-1.37c-.4-.4-.92-.59-1.43-.59-.52 0-1.04.2-1.43.59L10.3 9.45l-7.72 7.72c-.78.78-.78 2.05 0 2.83L4 21.41c.39.39.9.59 1.41.59.51 0 1.02-.2 1.41-.59l7.78-7.78 2.81-2.81c.8-.78.8-2.07 0-2.86zM5.41 20L4 18.59l7.72-7.72 1.47 1.35L5.41 20z\"/>\n",
              "  </svg>\n",
              "      </button>\n",
              "      \n",
              "  <style>\n",
              "    .colab-df-container {\n",
              "      display:flex;\n",
              "      flex-wrap:wrap;\n",
              "      gap: 12px;\n",
              "    }\n",
              "\n",
              "    .colab-df-convert {\n",
              "      background-color: #E8F0FE;\n",
              "      border: none;\n",
              "      border-radius: 50%;\n",
              "      cursor: pointer;\n",
              "      display: none;\n",
              "      fill: #1967D2;\n",
              "      height: 32px;\n",
              "      padding: 0 0 0 0;\n",
              "      width: 32px;\n",
              "    }\n",
              "\n",
              "    .colab-df-convert:hover {\n",
              "      background-color: #E2EBFA;\n",
              "      box-shadow: 0px 1px 2px rgba(60, 64, 67, 0.3), 0px 1px 3px 1px rgba(60, 64, 67, 0.15);\n",
              "      fill: #174EA6;\n",
              "    }\n",
              "\n",
              "    [theme=dark] .colab-df-convert {\n",
              "      background-color: #3B4455;\n",
              "      fill: #D2E3FC;\n",
              "    }\n",
              "\n",
              "    [theme=dark] .colab-df-convert:hover {\n",
              "      background-color: #434B5C;\n",
              "      box-shadow: 0px 1px 3px 1px rgba(0, 0, 0, 0.15);\n",
              "      filter: drop-shadow(0px 1px 2px rgba(0, 0, 0, 0.3));\n",
              "      fill: #FFFFFF;\n",
              "    }\n",
              "  </style>\n",
              "\n",
              "      <script>\n",
              "        const buttonEl =\n",
              "          document.querySelector('#df-a6bff6a2-41a6-4fd4-941e-9d1e46d2cc3d button.colab-df-convert');\n",
              "        buttonEl.style.display =\n",
              "          google.colab.kernel.accessAllowed ? 'block' : 'none';\n",
              "\n",
              "        async function convertToInteractive(key) {\n",
              "          const element = document.querySelector('#df-a6bff6a2-41a6-4fd4-941e-9d1e46d2cc3d');\n",
              "          const dataTable =\n",
              "            await google.colab.kernel.invokeFunction('convertToInteractive',\n",
              "                                                     [key], {});\n",
              "          if (!dataTable) return;\n",
              "\n",
              "          const docLinkHtml = 'Like what you see? Visit the ' +\n",
              "            '<a target=\"_blank\" href=https://colab.research.google.com/notebooks/data_table.ipynb>data table notebook</a>'\n",
              "            + ' to learn more about interactive tables.';\n",
              "          element.innerHTML = '';\n",
              "          dataTable['output_type'] = 'display_data';\n",
              "          await google.colab.output.renderOutput(dataTable, element);\n",
              "          const docLink = document.createElement('div');\n",
              "          docLink.innerHTML = docLinkHtml;\n",
              "          element.appendChild(docLink);\n",
              "        }\n",
              "      </script>\n",
              "    </div>\n",
              "  </div>\n",
              "  "
            ]
          },
          "metadata": {},
          "execution_count": 11
        }
      ]
    },
    {
      "cell_type": "markdown",
      "source": [
        "### 활성화함수, 최적화함수 별 비교\n",
        "- 1.중간층 활성화함수 : sigmoid, 최적화함수 : SGD\n",
        "- 2.중간층 활성화함수 : relu, 최적화함수 : SGD\n",
        "- 3.중간층 활성화함수 : relu, 최적화함수 : Adam\n",
        "  - model1,model2,model3 각각의 신경망을 설계하고 결과를 비교해서 시각화해보세요~^^"
      ],
      "metadata": {
        "id": "mxqkcv9Y7pOw"
      }
    },
    {
      "cell_type": "code",
      "source": [
        "from sklearn.model_selection import train_test_split"
      ],
      "metadata": {
        "id": "htKPnzA08yN5"
      },
      "execution_count": null,
      "outputs": []
    },
    {
      "cell_type": "code",
      "source": [
        "from tensorflow.keras import Sequential\n",
        "from tensorflow.keras.layers import Dense, Flatten"
      ],
      "metadata": {
        "id": "quWhErov8QlX"
      },
      "execution_count": null,
      "outputs": []
    },
    {
      "cell_type": "code",
      "source": [
        "model1 = Sequential()\n",
        "#입력층 모델1\n",
        "model1.add(Flatten(input_shape =(28,28)))\n",
        "\n",
        "#1.중간층 활성화함수 : sigmoid, 최적화함수 : SGD\n",
        "model1.add(Dense(450,activation='sigmoid'))\n",
        "model1.add(Dense(200,activation='sigmoid'))\n",
        "model1.add(Dense(150,activation='sigmoid'))\n",
        "model1.add(Dense(50,activation='sigmoid'))\n",
        "# 출력층 모델1\n",
        "model1.add(Dense(10, activation ='softmax')) # 활성화함수\n",
        "\n",
        "model1.compile(loss = 'categorical_crossentropy',\n",
        "              optimizer = 'sgd', # 최적화함수 : 확률적경사하강법\n",
        "              metrics = ['acc']) # 평가방법 설정 : 정확도\n",
        "\n",
        "h1 = model1.fit(X_train, y_train_one_hot,\n",
        "                validation_split=0.2,\n",
        "                epochs =30,\n",
        "                batch_size=128)"
      ],
      "metadata": {
        "id": "7SeU01Uz8byb"
      },
      "execution_count": null,
      "outputs": []
    },
    {
      "cell_type": "markdown",
      "source": [
        "- model2가 학습이 제대로 되지 않은 것은 우리의 데이터에 비해 활성화함수와 최적화함수가 맞지 않아 learning rate가 데이터에 비해 크게 잡혔기 때문(최적값으로 수렴하는게 아니라 오히려 발산해서 학습이 불가능해짐 -> loss: nan 드는 것을 보고 추론해 볼 수 있음)\n",
        "- 최적화함수의 learning rate(학습률)을 낮춰서 안정적으로 학습을 시도해보면 됨"
      ],
      "metadata": {
        "id": "bi2LiqYmH4np"
      }
    },
    {
      "cell_type": "code",
      "source": [
        "from tensorflow.keras.optimizers import SGD"
      ],
      "metadata": {
        "id": "rVKJ2oTXISjb"
      },
      "execution_count": null,
      "outputs": []
    },
    {
      "cell_type": "code",
      "source": [
        "model2 = Sequential()\n",
        "#입력층 모델2\n",
        "model2.add(Flatten(input_shape =(28,28)))\n",
        "\n",
        "#2.중간층 활성화함수 : relu, 최적화함수 : SGD\n",
        "model2.add(Dense(450,activation='relu'))\n",
        "model2.add(Dense(200,activation='relu'))\n",
        "model2.add(Dense(150,activation='relu'))\n",
        "model2.add(Dense(50,activation='relu'))\n",
        "# 출력층 모델2\n",
        "model2.add(Dense(10, activation ='softmax')) # 활성화함수\n",
        "\n",
        "model2.compile(loss = 'categorical_crossentropy',\n",
        "              optimizer = SGD(lr=0.001), # SGD의 lr디폴트 값이 0.01\n",
        "              metrics = ['acc']\n",
        "              )\n",
        "\n",
        "h2 = model2.fit(X_train, y_train_one_hot,\n",
        "                validation_split=0.2,\n",
        "                epochs =30,\n",
        "                batch_size=64)"
      ],
      "metadata": {
        "colab": {
          "base_uri": "https://localhost:8080/"
        },
        "id": "KyqyJ0e17-i3",
        "outputId": "0833466d-c166-43d4-f5fe-b95d51d3219b"
      },
      "execution_count": null,
      "outputs": [
        {
          "output_type": "stream",
          "name": "stdout",
          "text": [
            "Epoch 1/30\n"
          ]
        },
        {
          "output_type": "stream",
          "name": "stderr",
          "text": [
            "/usr/local/lib/python3.7/dist-packages/keras/optimizer_v2/gradient_descent.py:102: UserWarning: The `lr` argument is deprecated, use `learning_rate` instead.\n",
            "  super(SGD, self).__init__(name, **kwargs)\n"
          ]
        },
        {
          "output_type": "stream",
          "name": "stdout",
          "text": [
            "750/750 [==============================] - 3s 3ms/step - loss: 1.6950 - acc: 0.6982 - val_loss: 0.6688 - val_acc: 0.7616\n",
            "Epoch 2/30\n",
            "750/750 [==============================] - 3s 3ms/step - loss: 0.5920 - acc: 0.7873 - val_loss: 0.5791 - val_acc: 0.7975\n",
            "Epoch 3/30\n",
            "750/750 [==============================] - 3s 3ms/step - loss: 0.5105 - acc: 0.8181 - val_loss: 0.5507 - val_acc: 0.8055\n",
            "Epoch 4/30\n",
            "750/750 [==============================] - 3s 3ms/step - loss: 0.4624 - acc: 0.8349 - val_loss: 0.5041 - val_acc: 0.8275\n",
            "Epoch 5/30\n",
            "750/750 [==============================] - 2s 3ms/step - loss: 0.4299 - acc: 0.8449 - val_loss: 0.4765 - val_acc: 0.8327\n",
            "Epoch 6/30\n",
            "750/750 [==============================] - 2s 3ms/step - loss: 0.4087 - acc: 0.8512 - val_loss: 0.4659 - val_acc: 0.8380\n",
            "Epoch 7/30\n",
            "750/750 [==============================] - 2s 3ms/step - loss: 0.3878 - acc: 0.8582 - val_loss: 0.4543 - val_acc: 0.8391\n",
            "Epoch 8/30\n",
            "750/750 [==============================] - 3s 3ms/step - loss: 0.3730 - acc: 0.8634 - val_loss: 0.4447 - val_acc: 0.8466\n",
            "Epoch 9/30\n",
            "750/750 [==============================] - 2s 3ms/step - loss: 0.3587 - acc: 0.8698 - val_loss: 0.4427 - val_acc: 0.8462\n",
            "Epoch 10/30\n",
            "750/750 [==============================] - 3s 3ms/step - loss: 0.3466 - acc: 0.8732 - val_loss: 0.4354 - val_acc: 0.8516\n",
            "Epoch 11/30\n",
            "750/750 [==============================] - 2s 3ms/step - loss: 0.3344 - acc: 0.8772 - val_loss: 0.4338 - val_acc: 0.8512\n",
            "Epoch 12/30\n",
            "750/750 [==============================] - 2s 3ms/step - loss: 0.3253 - acc: 0.8806 - val_loss: 0.4231 - val_acc: 0.8533\n",
            "Epoch 13/30\n",
            "750/750 [==============================] - 3s 3ms/step - loss: 0.3173 - acc: 0.8840 - val_loss: 0.4359 - val_acc: 0.8513\n",
            "Epoch 14/30\n",
            "750/750 [==============================] - 3s 3ms/step - loss: 0.3079 - acc: 0.8882 - val_loss: 0.4160 - val_acc: 0.8546\n",
            "Epoch 15/30\n",
            "750/750 [==============================] - 2s 3ms/step - loss: 0.3011 - acc: 0.8899 - val_loss: 0.4186 - val_acc: 0.8548\n",
            "Epoch 16/30\n",
            "750/750 [==============================] - 2s 3ms/step - loss: 0.2934 - acc: 0.8920 - val_loss: 0.4196 - val_acc: 0.8597\n",
            "Epoch 17/30\n",
            "750/750 [==============================] - 2s 3ms/step - loss: 0.2872 - acc: 0.8946 - val_loss: 0.4141 - val_acc: 0.8580\n",
            "Epoch 18/30\n",
            "750/750 [==============================] - 2s 3ms/step - loss: 0.2807 - acc: 0.8975 - val_loss: 0.4320 - val_acc: 0.8562\n",
            "Epoch 19/30\n",
            "750/750 [==============================] - 2s 3ms/step - loss: 0.2756 - acc: 0.8981 - val_loss: 0.4151 - val_acc: 0.8598\n",
            "Epoch 20/30\n",
            "750/750 [==============================] - 2s 3ms/step - loss: 0.2708 - acc: 0.9007 - val_loss: 0.4069 - val_acc: 0.8665\n",
            "Epoch 21/30\n",
            "750/750 [==============================] - 3s 3ms/step - loss: 0.2644 - acc: 0.9032 - val_loss: 0.4155 - val_acc: 0.8602\n",
            "Epoch 22/30\n",
            "750/750 [==============================] - 3s 3ms/step - loss: 0.2595 - acc: 0.9063 - val_loss: 0.4051 - val_acc: 0.8658\n",
            "Epoch 23/30\n",
            "750/750 [==============================] - 3s 3ms/step - loss: 0.2540 - acc: 0.9069 - val_loss: 0.4132 - val_acc: 0.8630\n",
            "Epoch 24/30\n",
            "750/750 [==============================] - 3s 3ms/step - loss: 0.2495 - acc: 0.9095 - val_loss: 0.4161 - val_acc: 0.8637\n",
            "Epoch 25/30\n",
            "750/750 [==============================] - 3s 4ms/step - loss: 0.2449 - acc: 0.9105 - val_loss: 0.4155 - val_acc: 0.8634\n",
            "Epoch 26/30\n",
            "750/750 [==============================] - 3s 3ms/step - loss: 0.2414 - acc: 0.9110 - val_loss: 0.4112 - val_acc: 0.8670\n",
            "Epoch 27/30\n",
            "750/750 [==============================] - 2s 3ms/step - loss: 0.2354 - acc: 0.9144 - val_loss: 0.4078 - val_acc: 0.8678\n",
            "Epoch 28/30\n",
            "750/750 [==============================] - 2s 3ms/step - loss: 0.2327 - acc: 0.9161 - val_loss: 0.4131 - val_acc: 0.8672\n",
            "Epoch 29/30\n",
            "750/750 [==============================] - 3s 3ms/step - loss: 0.2284 - acc: 0.9171 - val_loss: 0.4081 - val_acc: 0.8660\n",
            "Epoch 30/30\n",
            "750/750 [==============================] - 3s 4ms/step - loss: 0.2244 - acc: 0.9176 - val_loss: 0.4172 - val_acc: 0.8654\n"
          ]
        }
      ]
    },
    {
      "cell_type": "code",
      "source": [
        "model3 = Sequential()\n",
        "#입력층 모델3\n",
        "model3.add(Flatten(input_shape =(28,28)))\n",
        "\n",
        "#3.중간층 활성화함수 : relu, 최적화함수 : Adam\n",
        "model3.add(Dense(450,activation='relu'))\n",
        "model3.add(Dense(200,activation='relu'))\n",
        "model3.add(Dense(150,activation='relu'))\n",
        "model3.add(Dense(50,activation='relu'))\n",
        "# 출력층 모델3\n",
        "model3.add(Dense(10, activation ='softmax')) # 활성화함수\n",
        "\n",
        "model3.compile(loss = 'categorical_crossentropy',\n",
        "              optimizer = 'adam', # 최적화함수 : adam\n",
        "              metrics = ['acc']) # 평가방법 설정 : 정확도\n",
        "\n",
        "h3 = model3.fit(X_train, y_train_one_hot,\n",
        "                validation_split=0.2,\n",
        "                epochs =30,\n",
        "                batch_size=128)"
      ],
      "metadata": {
        "id": "Sb_KA_Qq77Nh"
      },
      "execution_count": null,
      "outputs": []
    },
    {
      "cell_type": "code",
      "source": [
        "plt.figure(figsize=(15,5))\n",
        "plt.plot(h1.history['acc'], label='sigmoid+SGD.acc', c = '#F54242', marker='.')\n",
        "plt.plot(h1.history['val_acc'], label='sigmoid+SGD.val_acc', c = '#F59942', marker='.')\n",
        "plt.plot(h2.history['acc'], label='relu+SGD.acc', c = '#96F542', marker='.')\n",
        "plt.plot(h2.history['val_acc'], label='relu+SGD.val_acc', c = '#42F587', marker='.')\n",
        "plt.plot(h3.history['acc'], label='relu+Adam.acc', c = '#4263F5', marker='.')\n",
        "plt.plot(h3.history['val_acc'], label='relu+Adam.val_acc', c = '#8D42F5', marker='.')\n",
        "plt.xlabel('epochs')\n",
        "plt.ylabel('accuracy')\n",
        "plt.legend()\n",
        "plt.show()"
      ],
      "metadata": {
        "colab": {
          "base_uri": "https://localhost:8080/",
          "height": 334
        },
        "id": "VPmk5WeQ7Dbo",
        "outputId": "31646c54-3668-452b-dab2-40e3166bc4db"
      },
      "execution_count": null,
      "outputs": [
        {
          "output_type": "display_data",
          "data": {
            "text/plain": [
              "<Figure size 1080x360 with 1 Axes>"
            ],
            "image/png": "[encoded data removed]"
          },
          "metadata": {
            "needs_background": "light"
          }
        }
      ]
    },
    {
      "cell_type": "markdown",
      "source": [
        "### 최적화 모델 찾기\n",
        "- 모델체크포인트(ModelCheckPoint) : 모델을 저장해주는 기능\n",
        "- 얼리스탑핑(EarlyStopping) : 조기학습 중단 기능(시간낭비를 방지, 과대적합)"
      ],
      "metadata": {
        "id": "UolI-BMD7DZM"
      }
    },
    {
      "cell_type": "code",
      "source": [
        "from tensorflow.keras.callbacks import ModelCheckpoint, EarlyStopping"
      ],
      "metadata": {
        "id": "_toao4FDPe1s"
      },
      "execution_count": null,
      "outputs": []
    },
    {
      "cell_type": "code",
      "source": [
        "# 1. 모델 저장\n",
        "# 저장경로 및 파일명 형태를 설정\n",
        "save_path = '/content/drive/MyDrive/인공지능 12회차/model/FashionModel_{epoch:03d}_{val_acc:.4f}.hdf5'\n",
        "# d(digit) : 10진수 형태, 03 -> 0이 3개 붙어있는 형태의 자리수(001,002,003 ...) \n",
        "# f(float) : 실수(소수점) 형태 .4 -> 소수점 4자리까지 형태의 자리수(0.001, 0.002, 0.003 ...)\n",
        "# hdf5 : 모델이 저장되는 파일의 확장자명\n",
        "\n",
        "f_mckp = ModelCheckpoint(filepath = save_path,   # 파일 경로 설정\n",
        "                         monitor = 'val_acc',    # 해당값을 기준으로 파일을 저장\n",
        "                         save_best_only = True,  # monitor값이 가장 최고점이거나 최저점을 갱신했을 경우 모델을 저장\n",
        "                         mode = 'max',           # save_best_only = True일 경우 모니터링 하는 값의 최대, 최소를 결정\n",
        "                         verbose = 1             # 모델 개선 및 저장 메시지 표시\n",
        "                         )"
      ],
      "metadata": {
        "id": "ev95vyejP0JE"
      },
      "execution_count": null,
      "outputs": []
    },
    {
      "cell_type": "code",
      "source": [
        "# 2 조기 학습 중단\n",
        "f_early = EarlyStopping(monitor = 'val_acc',\n",
        "                        patience = 3\n",
        "                        )\n",
        "# 모델 학습시 val_acc가 3번의 epoch를 돌 동안 값이 개선되지 않으면 학습을 중단시켜 주세요! patience의 의미."
      ],
      "metadata": {
        "id": "WP8L72-jTKZL"
      },
      "execution_count": null,
      "outputs": []
    },
    {
      "cell_type": "code",
      "source": [
        "model4 = Sequential()\n",
        "#입력층 모델3\n",
        "model4.add(Flatten(input_shape =(28,28)))\n",
        "\n",
        "#3.중간층 활성화함수 : relu, 최적화함수 : Adam\n",
        "model4.add(Dense(450,activation='relu'))\n",
        "model4.add(Dense(200,activation='relu'))\n",
        "model4.add(Dense(150,activation='relu'))\n",
        "model4.add(Dense(50,activation='relu'))\n",
        "# 출력층 모델3\n",
        "model4.add(Dense(10, activation ='softmax')) # 활성화함수\n",
        "\n",
        "model4.compile(loss = 'categorical_crossentropy',\n",
        "              optimizer = 'adam', # 최적화함수 : adam\n",
        "              metrics = ['acc']) # 평가방법 설정 : 정확도\n",
        "\n",
        "h4 = model4.fit(X_train, y_train_one_hot,\n",
        "                validation_split=0.2,\n",
        "                epochs =30,\n",
        "                batch_size=128,\n",
        "                callbacks=[f_mckp, f_early]) # 모델체크포인트, 얼리스탑핑 설정"
      ],
      "metadata": {
        "colab": {
          "base_uri": "https://localhost:8080/"
        },
        "id": "OaZlRFbKT1ra",
        "outputId": "1149ce10-12db-4232-bdde-bb18060c3414"
      },
      "execution_count": null,
      "outputs": [
        {
          "output_type": "stream",
          "name": "stdout",
          "text": [
            "Epoch 1/30\n",
            "368/375 [============================>.] - ETA: 0s - loss: 2.3679 - acc: 0.7541\n",
            "Epoch 1: val_acc improved from -inf to 0.81108, saving model to /content/drive/MyDrive/인공지능 12회차/model/FashionModel_001_0.8111.hdf5\n",
            "375/375 [==============================] - 2s 4ms/step - loss: 2.3356 - acc: 0.7551 - val_loss: 0.6309 - val_acc: 0.8111\n",
            "Epoch 2/30\n",
            "359/375 [===========================>..] - ETA: 0s - loss: 0.5180 - acc: 0.8325\n",
            "Epoch 2: val_acc improved from 0.81108 to 0.83467, saving model to /content/drive/MyDrive/인공지능 12회차/model/FashionModel_002_0.8347.hdf5\n",
            "375/375 [==============================] - 2s 4ms/step - loss: 0.5177 - acc: 0.8325 - val_loss: 0.5365 - val_acc: 0.8347\n",
            "Epoch 3/30\n",
            "369/375 [============================>.] - ETA: 0s - loss: 0.4269 - acc: 0.8507\n",
            "Epoch 3: val_acc did not improve from 0.83467\n",
            "375/375 [==============================] - 1s 4ms/step - loss: 0.4268 - acc: 0.8507 - val_loss: 0.4938 - val_acc: 0.8292\n",
            "Epoch 4/30\n",
            "360/375 [===========================>..] - ETA: 0s - loss: 0.3820 - acc: 0.8631\n",
            "Epoch 4: val_acc improved from 0.83467 to 0.85775, saving model to /content/drive/MyDrive/인공지능 12회차/model/FashionModel_004_0.8577.hdf5\n",
            "375/375 [==============================] - 1s 4ms/step - loss: 0.3829 - acc: 0.8627 - val_loss: 0.4241 - val_acc: 0.8577\n",
            "Epoch 5/30\n",
            "367/375 [============================>.] - ETA: 0s - loss: 0.3650 - acc: 0.8717\n",
            "Epoch 5: val_acc did not improve from 0.85775\n",
            "375/375 [==============================] - 1s 3ms/step - loss: 0.3644 - acc: 0.8719 - val_loss: 0.4253 - val_acc: 0.8532\n",
            "Epoch 6/30\n",
            "364/375 [============================>.] - ETA: 0s - loss: 0.3391 - acc: 0.8778\n",
            "Epoch 6: val_acc improved from 0.85775 to 0.86750, saving model to /content/drive/MyDrive/인공지능 12회차/model/FashionModel_006_0.8675.hdf5\n",
            "375/375 [==============================] - 2s 4ms/step - loss: 0.3390 - acc: 0.8777 - val_loss: 0.3791 - val_acc: 0.8675\n",
            "Epoch 7/30\n",
            "375/375 [==============================] - ETA: 0s - loss: 0.3294 - acc: 0.8811\n",
            "Epoch 7: val_acc did not improve from 0.86750\n",
            "375/375 [==============================] - 1s 4ms/step - loss: 0.3294 - acc: 0.8811 - val_loss: 0.4159 - val_acc: 0.8606\n",
            "Epoch 8/30\n",
            "360/375 [===========================>..] - ETA: 0s - loss: 0.3235 - acc: 0.8829\n",
            "Epoch 8: val_acc did not improve from 0.86750\n",
            "375/375 [==============================] - 1s 4ms/step - loss: 0.3229 - acc: 0.8832 - val_loss: 0.3987 - val_acc: 0.8638\n",
            "Epoch 9/30\n",
            "372/375 [============================>.] - ETA: 0s - loss: 0.3104 - acc: 0.8870\n",
            "Epoch 9: val_acc did not improve from 0.86750\n",
            "375/375 [==============================] - 1s 4ms/step - loss: 0.3107 - acc: 0.8869 - val_loss: 0.4340 - val_acc: 0.8596\n"
          ]
        }
      ]
    },
    {
      "cell_type": "markdown",
      "source": [
        "- 저장된 모델 불러오기 "
      ],
      "metadata": {
        "id": "ObO8jdLhUUaq"
      }
    },
    {
      "cell_type": "code",
      "source": [
        "from tensorflow.keras.models import load_model"
      ],
      "metadata": {
        "id": "M-uOVacMWAuY"
      },
      "execution_count": null,
      "outputs": []
    },
    {
      "cell_type": "code",
      "source": [
        "best_model = load_model('/content/drive/MyDrive/인공지능 12회차/model/FashionModel_006_0.8675.hdf5')"
      ],
      "metadata": {
        "id": "yqlyVy3zWHwo"
      },
      "execution_count": null,
      "outputs": []
    },
    {
      "cell_type": "code",
      "source": [
        "best_model.evaluate(X_test,y_test_one_hot)"
      ],
      "metadata": {
        "colab": {
          "base_uri": "https://localhost:8080/"
        },
        "id": "nsRWeJyaUTLq",
        "outputId": "f60ce90e-87ef-40cb-ea31-859282385ecd"
      },
      "execution_count": null,
      "outputs": [
        {
          "output_type": "stream",
          "name": "stdout",
          "text": [
            "313/313 [==============================] - 1s 3ms/step - loss: 0.4009 - acc: 0.8594\n"
          ]
        },
        {
          "output_type": "execute_result",
          "data": {
            "text/plain": [
              "[0.4009128510951996, 0.8593999743461609]"
            ]
          },
          "metadata": {},
          "execution_count": 78
        }
      ]
    },
    {
      "cell_type": "code",
      "source": [],
      "metadata": {
        "id": "f_7Ps0WM7DWT"
      },
      "execution_count": null,
      "outputs": []
    },
    {
      "cell_type": "code",
      "source": [],
      "metadata": {
        "id": "pQNBPzoO7DTb"
      },
      "execution_count": null,
      "outputs": []
    },
    {
      "cell_type": "code",
      "source": [],
      "metadata": {
        "id": "qNzH_Tya7DQT"
      },
      "execution_count": null,
      "outputs": []
    },
    {
      "cell_type": "code",
      "source": [],
      "metadata": {
        "id": "n4j8eoKC7DNL"
      },
      "execution_count": null,
      "outputs": []
    },
    {
      "cell_type": "code",
      "source": [],
      "metadata": {
        "id": "GelssSDy7DKk"
      },
      "execution_count": null,
      "outputs": []
    },
    {
      "cell_type": "code",
      "source": [],
      "metadata": {
        "id": "09TDvBnH7DHs"
      },
      "execution_count": null,
      "outputs": []
    },
    {
      "cell_type": "code",
      "source": [],
      "metadata": {
        "id": "-jD42zKW7DFA"
      },
      "execution_count": null,
      "outputs": []
    },
    {
      "cell_type": "code",
      "source": [],
      "metadata": {
        "id": "5dh2pQeV7C_w"
      },
      "execution_count": null,
      "outputs": []
    },
    {
      "cell_type": "code",
      "source": [],
      "metadata": {
        "id": "h68oJS-p7C9S"
      },
      "execution_count": null,
      "outputs": []
    },
    {
      "cell_type": "code",
      "source": [],
      "metadata": {
        "id": "r1u1TiLC7C6b"
      },
      "execution_count": null,
      "outputs": []
    },
    {
      "cell_type": "code",
      "source": [],
      "metadata": {
        "id": "AG2QK3ka6C2h"
      },
      "execution_count": null,
      "outputs": []
    },
    {
      "cell_type": "code",
      "source": [],
      "metadata": {
        "id": "6Q87Djqn6C4y"
      },
      "execution_count": null,
      "outputs": []
    },
    {
      "cell_type": "code",
      "source": [],
      "metadata": {
        "id": "sDgqYMkD6C7M"
      },
      "execution_count": null,
      "outputs": []
    },
    {
      "cell_type": "code",
      "source": [],
      "metadata": {
        "id": "784ElkYm6C9x"
      },
      "execution_count": null,
      "outputs": []
    }
  ]
}